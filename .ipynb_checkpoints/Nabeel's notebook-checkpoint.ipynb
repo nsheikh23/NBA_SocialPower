{
 "cells": [
  {
   "cell_type": "code",
   "execution_count": 1,
   "metadata": {},
   "outputs": [],
   "source": [
    "import pandas as pd\n",
    "import numpy as np"
   ]
  },
  {
   "cell_type": "markdown",
   "metadata": {},
   "source": [
    "## Extraction Process"
   ]
  },
  {
   "cell_type": "markdown",
   "metadata": {},
   "source": [
    "### ELO"
   ]
  },
  {
   "cell_type": "code",
   "execution_count": 2,
   "metadata": {},
   "outputs": [
    {
     "data": {
      "text/html": [
       "<div>\n",
       "<style scoped>\n",
       "    .dataframe tbody tr th:only-of-type {\n",
       "        vertical-align: middle;\n",
       "    }\n",
       "\n",
       "    .dataframe tbody tr th {\n",
       "        vertical-align: top;\n",
       "    }\n",
       "\n",
       "    .dataframe thead th {\n",
       "        text-align: right;\n",
       "    }\n",
       "</style>\n",
       "<table border=\"1\" class=\"dataframe\">\n",
       "  <thead>\n",
       "    <tr style=\"text-align: right;\">\n",
       "      <th></th>\n",
       "      <th>ELO</th>\n",
       "      <th>TEAM</th>\n",
       "      <th>CONF</th>\n",
       "    </tr>\n",
       "  </thead>\n",
       "  <tbody>\n",
       "    <tr>\n",
       "      <th>0</th>\n",
       "      <td>1770</td>\n",
       "      <td>Golden State Warriors</td>\n",
       "      <td>West</td>\n",
       "    </tr>\n",
       "    <tr>\n",
       "      <th>1</th>\n",
       "      <td>1661</td>\n",
       "      <td>San Antonio Spurs</td>\n",
       "      <td>West</td>\n",
       "    </tr>\n",
       "    <tr>\n",
       "      <th>2</th>\n",
       "      <td>1636</td>\n",
       "      <td>Los Angeles Clippers</td>\n",
       "      <td>West</td>\n",
       "    </tr>\n",
       "    <tr>\n",
       "      <th>3</th>\n",
       "      <td>1617</td>\n",
       "      <td>Utah Jazz</td>\n",
       "      <td>West</td>\n",
       "    </tr>\n",
       "    <tr>\n",
       "      <th>4</th>\n",
       "      <td>1602</td>\n",
       "      <td>Houston Rockets</td>\n",
       "      <td>West</td>\n",
       "    </tr>\n",
       "  </tbody>\n",
       "</table>\n",
       "</div>"
      ],
      "text/plain": [
       "    ELO                   TEAM  CONF\n",
       "0  1770  Golden State Warriors  West\n",
       "1  1661      San Antonio Spurs  West\n",
       "2  1636   Los Angeles Clippers  West\n",
       "3  1617              Utah Jazz  West\n",
       "4  1602        Houston Rockets  West"
      ]
     },
     "execution_count": 2,
     "metadata": {},
     "output_type": "execute_result"
    }
   ],
   "source": [
    "ELO_file = \"Resources/ELO.csv\"\n",
    "ELO_df = pd.read_csv(ELO_file)\n",
    "ELO_df.head()"
   ]
  },
  {
   "cell_type": "markdown",
   "metadata": {},
   "source": [
    "### Endorsements"
   ]
  },
  {
   "cell_type": "code",
   "execution_count": 3,
   "metadata": {},
   "outputs": [
    {
     "data": {
      "text/html": [
       "<div>\n",
       "<style scoped>\n",
       "    .dataframe tbody tr th:only-of-type {\n",
       "        vertical-align: middle;\n",
       "    }\n",
       "\n",
       "    .dataframe tbody tr th {\n",
       "        vertical-align: top;\n",
       "    }\n",
       "\n",
       "    .dataframe thead th {\n",
       "        text-align: right;\n",
       "    }\n",
       "</style>\n",
       "<table border=\"1\" class=\"dataframe\">\n",
       "  <thead>\n",
       "    <tr style=\"text-align: right;\">\n",
       "      <th></th>\n",
       "      <th>NAME</th>\n",
       "      <th>TEAM</th>\n",
       "      <th>SALARY</th>\n",
       "      <th>ENDORSEMENT</th>\n",
       "    </tr>\n",
       "  </thead>\n",
       "  <tbody>\n",
       "    <tr>\n",
       "      <th>0</th>\n",
       "      <td>LeBron James</td>\n",
       "      <td>Cleveland Cavaliers</td>\n",
       "      <td>$30,963,450.00</td>\n",
       "      <td>$55,000,000.00</td>\n",
       "    </tr>\n",
       "    <tr>\n",
       "      <th>1</th>\n",
       "      <td>Kevin Durant</td>\n",
       "      <td>Golden State Warriors</td>\n",
       "      <td>$26,500,000.00</td>\n",
       "      <td>$36,000,000.00</td>\n",
       "    </tr>\n",
       "    <tr>\n",
       "      <th>2</th>\n",
       "      <td>Stephen Curry</td>\n",
       "      <td>Golden State Warriors</td>\n",
       "      <td>$12,112,359.00</td>\n",
       "      <td>$35,000,000.00</td>\n",
       "    </tr>\n",
       "    <tr>\n",
       "      <th>3</th>\n",
       "      <td>James Harden</td>\n",
       "      <td>Houston Rockets</td>\n",
       "      <td>$26,500,000.00</td>\n",
       "      <td>$20,000,000.00</td>\n",
       "    </tr>\n",
       "    <tr>\n",
       "      <th>4</th>\n",
       "      <td>Russell Westbrook</td>\n",
       "      <td>Oklahoma City Thunder</td>\n",
       "      <td>$26,500,000.00</td>\n",
       "      <td>$15,000,000.00</td>\n",
       "    </tr>\n",
       "  </tbody>\n",
       "</table>\n",
       "</div>"
      ],
      "text/plain": [
       "                NAME                   TEAM           SALARY     ENDORSEMENT\n",
       "0       LeBron James    Cleveland Cavaliers   $30,963,450.00  $55,000,000.00\n",
       "1       Kevin Durant  Golden State Warriors   $26,500,000.00  $36,000,000.00\n",
       "2      Stephen Curry  Golden State Warriors  $12,112,359.00   $35,000,000.00\n",
       "3       James Harden        Houston Rockets   $26,500,000.00  $20,000,000.00\n",
       "4  Russell Westbrook  Oklahoma City Thunder   $26,500,000.00  $15,000,000.00"
      ]
     },
     "execution_count": 3,
     "metadata": {},
     "output_type": "execute_result"
    }
   ],
   "source": [
    "Endorsements_file = \"Resources/Endorsements.csv\"\n",
    "Endorsements_df = pd.read_csv(Endorsements_file)\n",
    "Endorsements_df.head()"
   ]
  },
  {
   "cell_type": "markdown",
   "metadata": {},
   "source": [
    "### Twitter"
   ]
  },
  {
   "cell_type": "code",
   "execution_count": 4,
   "metadata": {},
   "outputs": [
    {
     "data": {
      "text/html": [
       "<div>\n",
       "<style scoped>\n",
       "    .dataframe tbody tr th:only-of-type {\n",
       "        vertical-align: middle;\n",
       "    }\n",
       "\n",
       "    .dataframe tbody tr th {\n",
       "        vertical-align: top;\n",
       "    }\n",
       "\n",
       "    .dataframe thead th {\n",
       "        text-align: right;\n",
       "    }\n",
       "</style>\n",
       "<table border=\"1\" class=\"dataframe\">\n",
       "  <thead>\n",
       "    <tr style=\"text-align: right;\">\n",
       "      <th></th>\n",
       "      <th>PLAYER</th>\n",
       "      <th>TWITTER_FAVORITE_COUNT</th>\n",
       "      <th>TWITTER_RETWEET_COUNT</th>\n",
       "    </tr>\n",
       "  </thead>\n",
       "  <tbody>\n",
       "    <tr>\n",
       "      <th>0</th>\n",
       "      <td>Russell Westbrook</td>\n",
       "      <td>2130.5</td>\n",
       "      <td>559.0</td>\n",
       "    </tr>\n",
       "    <tr>\n",
       "      <th>1</th>\n",
       "      <td>James Harden</td>\n",
       "      <td>969.0</td>\n",
       "      <td>321.5</td>\n",
       "    </tr>\n",
       "    <tr>\n",
       "      <th>2</th>\n",
       "      <td>Isaiah Thomas</td>\n",
       "      <td>467.5</td>\n",
       "      <td>155.5</td>\n",
       "    </tr>\n",
       "    <tr>\n",
       "      <th>3</th>\n",
       "      <td>Anthony Davis</td>\n",
       "      <td>368.0</td>\n",
       "      <td>104.0</td>\n",
       "    </tr>\n",
       "    <tr>\n",
       "      <th>4</th>\n",
       "      <td>DeMar DeRozan</td>\n",
       "      <td>0.0</td>\n",
       "      <td>186.0</td>\n",
       "    </tr>\n",
       "  </tbody>\n",
       "</table>\n",
       "</div>"
      ],
      "text/plain": [
       "              PLAYER  TWITTER_FAVORITE_COUNT  TWITTER_RETWEET_COUNT\n",
       "0  Russell Westbrook                  2130.5                  559.0\n",
       "1       James Harden                   969.0                  321.5\n",
       "2      Isaiah Thomas                   467.5                  155.5\n",
       "3      Anthony Davis                   368.0                  104.0\n",
       "4      DeMar DeRozan                     0.0                  186.0"
      ]
     },
     "execution_count": 4,
     "metadata": {},
     "output_type": "execute_result"
    }
   ],
   "source": [
    "Twitter_file = \"Resources/Twitter.csv\"\n",
    "Twitter_df = pd.read_csv(Twitter_file)\n",
    "Twitter_df.head()"
   ]
  },
  {
   "cell_type": "markdown",
   "metadata": {},
   "source": [
    "### Wikipedia"
   ]
  },
  {
   "cell_type": "code",
   "execution_count": 5,
   "metadata": {},
   "outputs": [
    {
     "data": {
      "text/html": [
       "<div>\n",
       "<style scoped>\n",
       "    .dataframe tbody tr th:only-of-type {\n",
       "        vertical-align: middle;\n",
       "    }\n",
       "\n",
       "    .dataframe tbody tr th {\n",
       "        vertical-align: top;\n",
       "    }\n",
       "\n",
       "    .dataframe thead th {\n",
       "        text-align: right;\n",
       "    }\n",
       "</style>\n",
       "<table border=\"1\" class=\"dataframe\">\n",
       "  <thead>\n",
       "    <tr style=\"text-align: right;\">\n",
       "      <th></th>\n",
       "      <th>Unnamed: 0</th>\n",
       "      <th>names</th>\n",
       "      <th>pageviews</th>\n",
       "      <th>timestamps</th>\n",
       "      <th>wikipedia_handles</th>\n",
       "    </tr>\n",
       "  </thead>\n",
       "  <tbody>\n",
       "    <tr>\n",
       "      <th>0</th>\n",
       "      <td>0</td>\n",
       "      <td>Russell Westbrook</td>\n",
       "      <td>3400</td>\n",
       "      <td>2016010100</td>\n",
       "      <td>Russell_Westbrook</td>\n",
       "    </tr>\n",
       "    <tr>\n",
       "      <th>1</th>\n",
       "      <td>1</td>\n",
       "      <td>Russell Westbrook</td>\n",
       "      <td>2893</td>\n",
       "      <td>2016010200</td>\n",
       "      <td>Russell_Westbrook</td>\n",
       "    </tr>\n",
       "    <tr>\n",
       "      <th>2</th>\n",
       "      <td>2</td>\n",
       "      <td>Russell Westbrook</td>\n",
       "      <td>3209</td>\n",
       "      <td>2016010300</td>\n",
       "      <td>Russell_Westbrook</td>\n",
       "    </tr>\n",
       "    <tr>\n",
       "      <th>3</th>\n",
       "      <td>3</td>\n",
       "      <td>Russell Westbrook</td>\n",
       "      <td>2531</td>\n",
       "      <td>2016010400</td>\n",
       "      <td>Russell_Westbrook</td>\n",
       "    </tr>\n",
       "    <tr>\n",
       "      <th>4</th>\n",
       "      <td>4</td>\n",
       "      <td>Russell Westbrook</td>\n",
       "      <td>2599</td>\n",
       "      <td>2016010500</td>\n",
       "      <td>Russell_Westbrook</td>\n",
       "    </tr>\n",
       "  </tbody>\n",
       "</table>\n",
       "</div>"
      ],
      "text/plain": [
       "   Unnamed: 0              names  pageviews  timestamps  wikipedia_handles\n",
       "0           0  Russell Westbrook       3400  2016010100  Russell_Westbrook\n",
       "1           1  Russell Westbrook       2893  2016010200  Russell_Westbrook\n",
       "2           2  Russell Westbrook       3209  2016010300  Russell_Westbrook\n",
       "3           3  Russell Westbrook       2531  2016010400  Russell_Westbrook\n",
       "4           4  Russell Westbrook       2599  2016010500  Russell_Westbrook"
      ]
     },
     "execution_count": 5,
     "metadata": {},
     "output_type": "execute_result"
    }
   ],
   "source": [
    "Wiki_file = \"Resources/Wikipedia.csv\"\n",
    "Wiki_df = pd.read_csv(Wiki_file)\n",
    "Wiki_df.head()"
   ]
  },
  {
   "cell_type": "markdown",
   "metadata": {},
   "source": [
    "## Transform Process"
   ]
  },
  {
   "cell_type": "markdown",
   "metadata": {},
   "source": [
    "### ELO"
   ]
  },
  {
   "cell_type": "code",
   "execution_count": 6,
   "metadata": {},
   "outputs": [
    {
     "data": {
      "text/html": [
       "<div>\n",
       "<style scoped>\n",
       "    .dataframe tbody tr th:only-of-type {\n",
       "        vertical-align: middle;\n",
       "    }\n",
       "\n",
       "    .dataframe tbody tr th {\n",
       "        vertical-align: top;\n",
       "    }\n",
       "\n",
       "    .dataframe thead th {\n",
       "        text-align: right;\n",
       "    }\n",
       "</style>\n",
       "<table border=\"1\" class=\"dataframe\">\n",
       "  <thead>\n",
       "    <tr style=\"text-align: right;\">\n",
       "      <th></th>\n",
       "      <th>ELO</th>\n",
       "      <th>TEAM</th>\n",
       "    </tr>\n",
       "    <tr>\n",
       "      <th>CONFERENCE</th>\n",
       "      <th></th>\n",
       "      <th></th>\n",
       "    </tr>\n",
       "  </thead>\n",
       "  <tbody>\n",
       "    <tr>\n",
       "      <th>West</th>\n",
       "      <td>1770</td>\n",
       "      <td>Golden State Warriors</td>\n",
       "    </tr>\n",
       "    <tr>\n",
       "      <th>West</th>\n",
       "      <td>1661</td>\n",
       "      <td>San Antonio Spurs</td>\n",
       "    </tr>\n",
       "    <tr>\n",
       "      <th>West</th>\n",
       "      <td>1636</td>\n",
       "      <td>Los Angeles Clippers</td>\n",
       "    </tr>\n",
       "    <tr>\n",
       "      <th>West</th>\n",
       "      <td>1617</td>\n",
       "      <td>Utah Jazz</td>\n",
       "    </tr>\n",
       "    <tr>\n",
       "      <th>West</th>\n",
       "      <td>1602</td>\n",
       "      <td>Houston Rockets</td>\n",
       "    </tr>\n",
       "    <tr>\n",
       "      <th>West</th>\n",
       "      <td>1563</td>\n",
       "      <td>Portland Trail Blazers</td>\n",
       "    </tr>\n",
       "    <tr>\n",
       "      <th>West</th>\n",
       "      <td>1552</td>\n",
       "      <td>Denver Nuggets</td>\n",
       "    </tr>\n",
       "    <tr>\n",
       "      <th>West</th>\n",
       "      <td>1543</td>\n",
       "      <td>Oklahoma City Thunder</td>\n",
       "    </tr>\n",
       "    <tr>\n",
       "      <th>West</th>\n",
       "      <td>1482</td>\n",
       "      <td>Memphis Grizzlies</td>\n",
       "    </tr>\n",
       "    <tr>\n",
       "      <th>West</th>\n",
       "      <td>1482</td>\n",
       "      <td>New Orleans Pelicans</td>\n",
       "    </tr>\n",
       "    <tr>\n",
       "      <th>West</th>\n",
       "      <td>1463</td>\n",
       "      <td>Minnesota Timberwolves</td>\n",
       "    </tr>\n",
       "    <tr>\n",
       "      <th>West</th>\n",
       "      <td>1420</td>\n",
       "      <td>Dallas Mavericks</td>\n",
       "    </tr>\n",
       "    <tr>\n",
       "      <th>West</th>\n",
       "      <td>1393</td>\n",
       "      <td>Sacramento Kings</td>\n",
       "    </tr>\n",
       "    <tr>\n",
       "      <th>West</th>\n",
       "      <td>1367</td>\n",
       "      <td>Los Angeles Lakers</td>\n",
       "    </tr>\n",
       "    <tr>\n",
       "      <th>West</th>\n",
       "      <td>1340</td>\n",
       "      <td>Phoenix Suns</td>\n",
       "    </tr>\n",
       "    <tr>\n",
       "      <th>East</th>\n",
       "      <td>1600</td>\n",
       "      <td>Toronto Raptors</td>\n",
       "    </tr>\n",
       "    <tr>\n",
       "      <th>East</th>\n",
       "      <td>1587</td>\n",
       "      <td>Boston Celtics</td>\n",
       "    </tr>\n",
       "    <tr>\n",
       "      <th>East</th>\n",
       "      <td>1587</td>\n",
       "      <td>Washington Wizards</td>\n",
       "    </tr>\n",
       "    <tr>\n",
       "      <th>East</th>\n",
       "      <td>1569</td>\n",
       "      <td>Miami Heat</td>\n",
       "    </tr>\n",
       "    <tr>\n",
       "      <th>East</th>\n",
       "      <td>1545</td>\n",
       "      <td>Cleveland Cavaliers</td>\n",
       "    </tr>\n",
       "    <tr>\n",
       "      <th>East</th>\n",
       "      <td>1526</td>\n",
       "      <td>Indiana Pacers</td>\n",
       "    </tr>\n",
       "    <tr>\n",
       "      <th>East</th>\n",
       "      <td>1519</td>\n",
       "      <td>Chicago Bulls</td>\n",
       "    </tr>\n",
       "    <tr>\n",
       "      <th>East</th>\n",
       "      <td>1502</td>\n",
       "      <td>Milwaukee Bucks</td>\n",
       "    </tr>\n",
       "    <tr>\n",
       "      <th>East</th>\n",
       "      <td>1479</td>\n",
       "      <td>Atlanta Hawks</td>\n",
       "    </tr>\n",
       "    <tr>\n",
       "      <th>East</th>\n",
       "      <td>1463</td>\n",
       "      <td>Charlotte Hornets</td>\n",
       "    </tr>\n",
       "    <tr>\n",
       "      <th>East</th>\n",
       "      <td>1441</td>\n",
       "      <td>Detroit Pistons</td>\n",
       "    </tr>\n",
       "    <tr>\n",
       "      <th>East</th>\n",
       "      <td>1374</td>\n",
       "      <td>New York Knicks</td>\n",
       "    </tr>\n",
       "    <tr>\n",
       "      <th>East</th>\n",
       "      <td>1372</td>\n",
       "      <td>Brooklyn Nets</td>\n",
       "    </tr>\n",
       "    <tr>\n",
       "      <th>East</th>\n",
       "      <td>1352</td>\n",
       "      <td>Orlando Magic</td>\n",
       "    </tr>\n",
       "    <tr>\n",
       "      <th>East</th>\n",
       "      <td>1338</td>\n",
       "      <td>Philadelphia 76ers</td>\n",
       "    </tr>\n",
       "  </tbody>\n",
       "</table>\n",
       "</div>"
      ],
      "text/plain": [
       "             ELO                    TEAM\n",
       "CONFERENCE                              \n",
       "West        1770   Golden State Warriors\n",
       "West        1661       San Antonio Spurs\n",
       "West        1636    Los Angeles Clippers\n",
       "West        1617               Utah Jazz\n",
       "West        1602         Houston Rockets\n",
       "West        1563  Portland Trail Blazers\n",
       "West        1552          Denver Nuggets\n",
       "West        1543   Oklahoma City Thunder\n",
       "West        1482       Memphis Grizzlies\n",
       "West        1482    New Orleans Pelicans\n",
       "West        1463  Minnesota Timberwolves\n",
       "West        1420        Dallas Mavericks\n",
       "West        1393        Sacramento Kings\n",
       "West        1367      Los Angeles Lakers\n",
       "West        1340            Phoenix Suns\n",
       "East        1600         Toronto Raptors\n",
       "East        1587          Boston Celtics\n",
       "East        1587      Washington Wizards\n",
       "East        1569              Miami Heat\n",
       "East        1545     Cleveland Cavaliers\n",
       "East        1526          Indiana Pacers\n",
       "East        1519           Chicago Bulls\n",
       "East        1502         Milwaukee Bucks\n",
       "East        1479           Atlanta Hawks\n",
       "East        1463       Charlotte Hornets\n",
       "East        1441         Detroit Pistons\n",
       "East        1374         New York Knicks\n",
       "East        1372           Brooklyn Nets\n",
       "East        1352           Orlando Magic\n",
       "East        1338      Philadelphia 76ers"
      ]
     },
     "execution_count": 6,
     "metadata": {},
     "output_type": "execute_result"
    }
   ],
   "source": [
    "# Sorted by Conference and ELO value in descending order and renamed columns\n",
    "ELOsorted_df=ELO_df.sort_values(['CONF','ELO'], ascending=False).rename(columns={'CONF':'CONFERENCE'})\n",
    "\n",
    "# Set Conference as the index\n",
    "ELOcleaned_df = ELOsorted_df.set_index('CONFERENCE')\n",
    "ELOcleaned_df"
   ]
  },
  {
   "cell_type": "markdown",
   "metadata": {},
   "source": [
    "### Endorsements"
   ]
  },
  {
   "cell_type": "code",
   "execution_count": 7,
   "metadata": {},
   "outputs": [
    {
     "data": {
      "text/html": [
       "<div>\n",
       "<style scoped>\n",
       "    .dataframe tbody tr th:only-of-type {\n",
       "        vertical-align: middle;\n",
       "    }\n",
       "\n",
       "    .dataframe tbody tr th {\n",
       "        vertical-align: top;\n",
       "    }\n",
       "\n",
       "    .dataframe thead th {\n",
       "        text-align: right;\n",
       "    }\n",
       "</style>\n",
       "<table border=\"1\" class=\"dataframe\">\n",
       "  <thead>\n",
       "    <tr style=\"text-align: right;\">\n",
       "      <th></th>\n",
       "      <th>NAME</th>\n",
       "      <th>TEAM</th>\n",
       "      <th>SALARY</th>\n",
       "      <th>ENDORSEMENT</th>\n",
       "    </tr>\n",
       "  </thead>\n",
       "  <tbody>\n",
       "    <tr>\n",
       "      <th>0</th>\n",
       "      <td>LeBron James</td>\n",
       "      <td>Cleveland Cavaliers</td>\n",
       "      <td>$30,963,450.00</td>\n",
       "      <td>$55,000,000.00</td>\n",
       "    </tr>\n",
       "    <tr>\n",
       "      <th>1</th>\n",
       "      <td>Kevin Durant</td>\n",
       "      <td>Golden State Warriors</td>\n",
       "      <td>$26,500,000.00</td>\n",
       "      <td>$36,000,000.00</td>\n",
       "    </tr>\n",
       "    <tr>\n",
       "      <th>2</th>\n",
       "      <td>Stephen Curry</td>\n",
       "      <td>Golden State Warriors</td>\n",
       "      <td>$12,112,359.00</td>\n",
       "      <td>$35,000,000.00</td>\n",
       "    </tr>\n",
       "    <tr>\n",
       "      <th>3</th>\n",
       "      <td>James Harden</td>\n",
       "      <td>Houston Rockets</td>\n",
       "      <td>$26,500,000.00</td>\n",
       "      <td>$20,000,000.00</td>\n",
       "    </tr>\n",
       "    <tr>\n",
       "      <th>4</th>\n",
       "      <td>Russell Westbrook</td>\n",
       "      <td>Oklahoma City Thunder</td>\n",
       "      <td>$26,500,000.00</td>\n",
       "      <td>$15,000,000.00</td>\n",
       "    </tr>\n",
       "    <tr>\n",
       "      <th>6</th>\n",
       "      <td>Derrick Rose</td>\n",
       "      <td>New York Knicks</td>\n",
       "      <td>$21,323,252.00</td>\n",
       "      <td>$14,000,000.00</td>\n",
       "    </tr>\n",
       "    <tr>\n",
       "      <th>5</th>\n",
       "      <td>Dwyane Wade</td>\n",
       "      <td>Chicago Bulls</td>\n",
       "      <td>$23,200,000.00</td>\n",
       "      <td>$13,000,000.00</td>\n",
       "    </tr>\n",
       "    <tr>\n",
       "      <th>9</th>\n",
       "      <td>Kyrie Irving</td>\n",
       "      <td>Cleveland Cavaliers</td>\n",
       "      <td>$17,638,063.00</td>\n",
       "      <td>$13,000,000.00</td>\n",
       "    </tr>\n",
       "    <tr>\n",
       "      <th>7</th>\n",
       "      <td>Carmelo Anthony</td>\n",
       "      <td>New York Knicks</td>\n",
       "      <td>$24,559,380.00</td>\n",
       "      <td>$8,000,000.00</td>\n",
       "    </tr>\n",
       "    <tr>\n",
       "      <th>8</th>\n",
       "      <td>Chris Paul</td>\n",
       "      <td>Los Angeles Clippers</td>\n",
       "      <td>$22,868,827.00</td>\n",
       "      <td>$8,000,000.00</td>\n",
       "    </tr>\n",
       "  </tbody>\n",
       "</table>\n",
       "</div>"
      ],
      "text/plain": [
       "                NAME                   TEAM          SALARY     ENDORSEMENT\n",
       "0       LeBron James    Cleveland Cavaliers  $30,963,450.00  $55,000,000.00\n",
       "1       Kevin Durant  Golden State Warriors  $26,500,000.00  $36,000,000.00\n",
       "2      Stephen Curry  Golden State Warriors  $12,112,359.00  $35,000,000.00\n",
       "3       James Harden        Houston Rockets  $26,500,000.00  $20,000,000.00\n",
       "4  Russell Westbrook  Oklahoma City Thunder  $26,500,000.00  $15,000,000.00\n",
       "6       Derrick Rose        New York Knicks  $21,323,252.00  $14,000,000.00\n",
       "5        Dwyane Wade          Chicago Bulls  $23,200,000.00  $13,000,000.00\n",
       "9       Kyrie Irving    Cleveland Cavaliers  $17,638,063.00  $13,000,000.00\n",
       "7    Carmelo Anthony        New York Knicks  $24,559,380.00   $8,000,000.00\n",
       "8         Chris Paul   Los Angeles Clippers  $22,868,827.00   $8,000,000.00"
      ]
     },
     "execution_count": 7,
     "metadata": {},
     "output_type": "execute_result"
    }
   ],
   "source": [
    "# Transforming Endorsements_df\n",
    "Endorsements_df[Endorsements_df.columns[2:]] = Endorsements_df[Endorsements_df.columns[2:]].replace('[\\$,]', '', regex=True).astype(float)\n",
    "\n",
    "# Sorting values based on Endorsement first and then Salary\n",
    "Cleaned_Endorsements = Endorsements_df.sort_values(['ENDORSEMENT', 'SALARY'], ascending=False)\n",
    "\n",
    "# Cleaning up the formatting\n",
    "Cleaned_Endorsements['SALARY'] = Cleaned_Endorsements['SALARY'].map(\"${:,.2f}\".format)\n",
    "Cleaned_Endorsements['ENDORSEMENT'] = Cleaned_Endorsements['ENDORSEMENT'].map(\"${:,.2f}\".format)\n",
    "\n",
    "Cleaned_Endorsements"
   ]
  },
  {
   "cell_type": "markdown",
   "metadata": {},
   "source": [
    "### Twitter"
   ]
  },
  {
   "cell_type": "code",
   "execution_count": 8,
   "metadata": {},
   "outputs": [
    {
     "data": {
      "text/html": [
       "<div>\n",
       "<style scoped>\n",
       "    .dataframe tbody tr th:only-of-type {\n",
       "        vertical-align: middle;\n",
       "    }\n",
       "\n",
       "    .dataframe tbody tr th {\n",
       "        vertical-align: top;\n",
       "    }\n",
       "\n",
       "    .dataframe thead th {\n",
       "        text-align: right;\n",
       "    }\n",
       "</style>\n",
       "<table border=\"1\" class=\"dataframe\">\n",
       "  <thead>\n",
       "    <tr style=\"text-align: right;\">\n",
       "      <th></th>\n",
       "      <th>PLAYER</th>\n",
       "      <th>FAVORITE COUNT</th>\n",
       "      <th>RETWEET COUNT</th>\n",
       "    </tr>\n",
       "  </thead>\n",
       "  <tbody>\n",
       "    <tr>\n",
       "      <th>0</th>\n",
       "      <td>Stephen Curry</td>\n",
       "      <td>12278.0</td>\n",
       "      <td>2893.0</td>\n",
       "    </tr>\n",
       "    <tr>\n",
       "      <th>1</th>\n",
       "      <td>Joel Embiid</td>\n",
       "      <td>6852.5</td>\n",
       "      <td>2941.0</td>\n",
       "    </tr>\n",
       "    <tr>\n",
       "      <th>2</th>\n",
       "      <td>LeBron James</td>\n",
       "      <td>5533.5</td>\n",
       "      <td>1501.5</td>\n",
       "    </tr>\n",
       "    <tr>\n",
       "      <th>3</th>\n",
       "      <td>Kawhi Leonard</td>\n",
       "      <td>2701.5</td>\n",
       "      <td>716.5</td>\n",
       "    </tr>\n",
       "    <tr>\n",
       "      <th>4</th>\n",
       "      <td>Russell Westbrook</td>\n",
       "      <td>2130.5</td>\n",
       "      <td>559.0</td>\n",
       "    </tr>\n",
       "    <tr>\n",
       "      <th>...</th>\n",
       "      <td>...</td>\n",
       "      <td>...</td>\n",
       "      <td>...</td>\n",
       "    </tr>\n",
       "    <tr>\n",
       "      <th>60</th>\n",
       "      <td>Patty Mills</td>\n",
       "      <td>112.0</td>\n",
       "      <td>19.0</td>\n",
       "    </tr>\n",
       "    <tr>\n",
       "      <th>61</th>\n",
       "      <td>Kyle Korver</td>\n",
       "      <td>107.5</td>\n",
       "      <td>30.5</td>\n",
       "    </tr>\n",
       "    <tr>\n",
       "      <th>62</th>\n",
       "      <td>Nerlens Noel</td>\n",
       "      <td>105.0</td>\n",
       "      <td>64.0</td>\n",
       "    </tr>\n",
       "    <tr>\n",
       "      <th>63</th>\n",
       "      <td>Julius Randle</td>\n",
       "      <td>102.0</td>\n",
       "      <td>59.0</td>\n",
       "    </tr>\n",
       "    <tr>\n",
       "      <th>64</th>\n",
       "      <td>DeMarcus Cousins</td>\n",
       "      <td>102.0</td>\n",
       "      <td>91.5</td>\n",
       "    </tr>\n",
       "  </tbody>\n",
       "</table>\n",
       "<p>65 rows × 3 columns</p>\n",
       "</div>"
      ],
      "text/plain": [
       "               PLAYER  FAVORITE COUNT  RETWEET COUNT\n",
       "0       Stephen Curry         12278.0         2893.0\n",
       "1         Joel Embiid          6852.5         2941.0\n",
       "2        LeBron James          5533.5         1501.5\n",
       "3       Kawhi Leonard          2701.5          716.5\n",
       "4   Russell Westbrook          2130.5          559.0\n",
       "..                ...             ...            ...\n",
       "60        Patty Mills           112.0           19.0\n",
       "61        Kyle Korver           107.5           30.5\n",
       "62       Nerlens Noel           105.0           64.0\n",
       "63      Julius Randle           102.0           59.0\n",
       "64   DeMarcus Cousins           102.0           91.5\n",
       "\n",
       "[65 rows x 3 columns]"
      ]
     },
     "execution_count": 8,
     "metadata": {},
     "output_type": "execute_result"
    }
   ],
   "source": [
    "# Changed column names, sorted the values by Favorite count and dropped any NaN rows.\n",
    "Cleaned_Twitter = Twitter_df.rename(columns={'TWITTER_FAVORITE_COUNT':'FAVORITE COUNT', 'TWITTER_RETWEET_COUNT':'RETWEET COUNT'}).sort_values('FAVORITE COUNT', ascending=False).dropna(how='any')\n",
    "\n",
    "# Filtering players with greater than 100 Favorite Count and resetting index\n",
    "Cleaned_Twitter = Cleaned_Twitter.loc[Cleaned_Twitter['FAVORITE COUNT']>100].reset_index().drop(columns='index')\n",
    "\n",
    "Cleaned_Twitter"
   ]
  },
  {
   "cell_type": "markdown",
   "metadata": {},
   "source": [
    "### Wikipedia"
   ]
  },
  {
   "cell_type": "code",
   "execution_count": 9,
   "metadata": {},
   "outputs": [
    {
     "data": {
      "text/html": [
       "<div>\n",
       "<style scoped>\n",
       "    .dataframe tbody tr th:only-of-type {\n",
       "        vertical-align: middle;\n",
       "    }\n",
       "\n",
       "    .dataframe tbody tr th {\n",
       "        vertical-align: top;\n",
       "    }\n",
       "\n",
       "    .dataframe thead th {\n",
       "        text-align: right;\n",
       "    }\n",
       "</style>\n",
       "<table border=\"1\" class=\"dataframe\">\n",
       "  <thead>\n",
       "    <tr style=\"text-align: right;\">\n",
       "      <th></th>\n",
       "      <th>Views</th>\n",
       "    </tr>\n",
       "    <tr>\n",
       "      <th>Player</th>\n",
       "      <th></th>\n",
       "    </tr>\n",
       "  </thead>\n",
       "  <tbody>\n",
       "    <tr>\n",
       "      <th>Stephen Curry</th>\n",
       "      <td>10,407,255</td>\n",
       "    </tr>\n",
       "    <tr>\n",
       "      <th>LeBron James</th>\n",
       "      <td>8,823,785</td>\n",
       "    </tr>\n",
       "    <tr>\n",
       "      <th>Kevin Durant</th>\n",
       "      <td>3,865,014</td>\n",
       "    </tr>\n",
       "    <tr>\n",
       "      <th>Kyrie Irving</th>\n",
       "      <td>3,022,758</td>\n",
       "    </tr>\n",
       "    <tr>\n",
       "      <th>Dwyane Wade</th>\n",
       "      <td>2,694,345</td>\n",
       "    </tr>\n",
       "    <tr>\n",
       "      <th>...</th>\n",
       "      <td>...</td>\n",
       "    </tr>\n",
       "    <tr>\n",
       "      <th>Joe Young</th>\n",
       "      <td>1,563</td>\n",
       "    </tr>\n",
       "    <tr>\n",
       "      <th>Mirza Teletovic</th>\n",
       "      <td>1,488</td>\n",
       "    </tr>\n",
       "    <tr>\n",
       "      <th>Jusuf Nurkic</th>\n",
       "      <td>1,423</td>\n",
       "    </tr>\n",
       "    <tr>\n",
       "      <th>Andrew Nicholson</th>\n",
       "      <td>1,297</td>\n",
       "    </tr>\n",
       "    <tr>\n",
       "      <th>Dennis Schroder</th>\n",
       "      <td>1,233</td>\n",
       "    </tr>\n",
       "  </tbody>\n",
       "</table>\n",
       "<p>447 rows × 1 columns</p>\n",
       "</div>"
      ],
      "text/plain": [
       "                       Views\n",
       "Player                      \n",
       "Stephen Curry     10,407,255\n",
       "LeBron James       8,823,785\n",
       "Kevin Durant       3,865,014\n",
       "Kyrie Irving       3,022,758\n",
       "Dwyane Wade        2,694,345\n",
       "...                      ...\n",
       "Joe Young              1,563\n",
       "Mirza Teletovic        1,488\n",
       "Jusuf Nurkic           1,423\n",
       "Andrew Nicholson       1,297\n",
       "Dennis Schroder        1,233\n",
       "\n",
       "[447 rows x 1 columns]"
      ]
     },
     "execution_count": 9,
     "metadata": {},
     "output_type": "execute_result"
    }
   ],
   "source": [
    "# Dropped unnecessary columns(timestamps, wikipedia_handles)\n",
    "Cleaned_Wiki = Wiki_df[['names', 'pageviews']].rename(columns={'names':'Player', 'pageviews':'Views'})\n",
    "\n",
    "# Grouping by name, summing the pageviews and sorting by count\n",
    "Cleaned_Wiki = Cleaned_Wiki.groupby('Player').agg('sum').sort_values('Views', ascending=False)\n",
    "\n",
    "# Filtering players with greater than 1000 views\n",
    "Cleaned_Wiki = Cleaned_Wiki.loc[Cleaned_Wiki['Views']>1000]\n",
    "\n",
    "# Formatting\n",
    "Cleaned_Wiki['Views'] = Cleaned_Wiki['Views'].map(\"{:,.0f}\".format)\n",
    "\n",
    "Cleaned_Wiki"
   ]
  },
  {
   "cell_type": "markdown",
   "metadata": {},
   "source": [
    "## Loading into SQLite"
   ]
  },
  {
   "cell_type": "code",
   "execution_count": 10,
   "metadata": {},
   "outputs": [],
   "source": [
    "from sqlalchemy import create_engine"
   ]
  },
  {
   "cell_type": "markdown",
   "metadata": {},
   "source": [
    "### Combined Into 1 Database"
   ]
  },
  {
   "cell_type": "code",
   "execution_count": null,
   "metadata": {},
   "outputs": [],
   "source": [
    "engine = create_engine ('sqlite:///SQLite/NBA_Social_Power.sqlite', echo=False)\n",
    "conn = engine.connect()\n",
    "\n",
    "table1 = 'ELO'\n",
    "ELOcleaned_df.to_sql(table1, conn)\n",
    "\n",
    "table2 = 'Endorsements'\n",
    "Cleaned_Endorsements.to_sql(table2, conn)\n",
    "\n",
    "table3 = 'Twitter'\n",
    "Cleaned_Twitter.to_sql(table3, conn)\n",
    "\n",
    "table4 = 'Wikipedia'\n",
    "Cleaned_Wiki.to_sql(table4, conn)\n",
    "\n",
    "conn.close()"
   ]
  },
  {
   "cell_type": "markdown",
   "metadata": {},
   "source": [
    "### ELO"
   ]
  },
  {
   "cell_type": "code",
   "execution_count": null,
   "metadata": {},
   "outputs": [],
   "source": [
    "engine = create_engine ('sqlite:///SQLite/ELO.sqlite', echo=False)\n",
    "conn = engine.connect()\n",
    "\n",
    "table = 'ELO'\n",
    "ELOcleaned_df.to_sql(table, conn)\n",
    "\n",
    "conn.close()"
   ]
  },
  {
   "cell_type": "markdown",
   "metadata": {},
   "source": [
    "### Endorsements"
   ]
  },
  {
   "cell_type": "code",
   "execution_count": null,
   "metadata": {},
   "outputs": [],
   "source": [
    "engine = create_engine ('sqlite:///SQLite/Endorsements.sqlite', echo=False)\n",
    "conn = engine.connect()\n",
    "\n",
    "table = 'Endorsements'\n",
    "Cleaned_Endorsements.to_sql(table, conn)\n",
    "\n",
    "conn.close()"
   ]
  },
  {
   "cell_type": "markdown",
   "metadata": {},
   "source": [
    "### Twitter"
   ]
  },
  {
   "cell_type": "code",
   "execution_count": null,
   "metadata": {},
   "outputs": [],
   "source": [
    "engine = create_engine ('sqlite:///SQLite/Twitter.sqlite', echo=False)\n",
    "conn = engine.connect()\n",
    "\n",
    "table = 'Twitter'\n",
    "Cleaned_Twitter.to_sql(table, conn)\n",
    "\n",
    "conn.close()"
   ]
  },
  {
   "cell_type": "markdown",
   "metadata": {},
   "source": [
    "### Wikipedia"
   ]
  },
  {
   "cell_type": "code",
   "execution_count": null,
   "metadata": {},
   "outputs": [],
   "source": [
    "engine = create_engine ('sqlite:///SQLite/Wikipedia.sqlite', echo=False)\n",
    "conn = engine.connect()\n",
    "\n",
    "table = 'Wikipedia'\n",
    "Cleaned_Wiki.to_sql(table, conn)\n",
    "\n",
    "conn.close()"
   ]
  },
  {
   "cell_type": "markdown",
   "metadata": {},
   "source": [
    "## Querying the Data"
   ]
  },
  {
   "cell_type": "code",
   "execution_count": 12,
   "metadata": {},
   "outputs": [],
   "source": [
    "from sqlalchemy import inspect"
   ]
  },
  {
   "cell_type": "code",
   "execution_count": 13,
   "metadata": {},
   "outputs": [],
   "source": [
    "# Create the connection engine\n",
    "engine = create_engine(\"sqlite:///SQLite/NBA_Social_Power.sqlite\")"
   ]
  },
  {
   "cell_type": "code",
   "execution_count": 14,
   "metadata": {},
   "outputs": [],
   "source": [
    "# Create the inspector and connect it to the engine\n",
    "inspector = inspect(engine)"
   ]
  },
  {
   "cell_type": "code",
   "execution_count": 15,
   "metadata": {},
   "outputs": [
    {
     "data": {
      "text/plain": [
       "['ELO', 'Endorsements', 'Twitter', 'Wikipedia']"
      ]
     },
     "execution_count": 15,
     "metadata": {},
     "output_type": "execute_result"
    }
   ],
   "source": [
    "# Collect the names of tables within the database\n",
    "inspector.get_table_names()"
   ]
  },
  {
   "cell_type": "code",
   "execution_count": 16,
   "metadata": {},
   "outputs": [
    {
     "name": "stdout",
     "output_type": "stream",
     "text": [
      "('West', 1770, 'Golden State Warriors')\n",
      "('West', 1661, 'San Antonio Spurs')\n",
      "('West', 1636, 'Los Angeles Clippers')\n",
      "('West', 1617, 'Utah Jazz')\n",
      "('West', 1602, 'Houston Rockets')\n",
      "('West', 1563, 'Portland Trail Blazers')\n",
      "('West', 1552, 'Denver Nuggets')\n",
      "('West', 1543, 'Oklahoma City Thunder')\n",
      "('West', 1482, 'Memphis Grizzlies')\n",
      "('West', 1482, 'New Orleans Pelicans')\n",
      "('West', 1463, 'Minnesota Timberwolves')\n",
      "('West', 1420, 'Dallas Mavericks')\n",
      "('West', 1393, 'Sacramento Kings')\n",
      "('West', 1367, 'Los Angeles Lakers')\n",
      "('West', 1340, 'Phoenix Suns')\n",
      "('East', 1600, 'Toronto Raptors')\n",
      "('East', 1587, 'Boston Celtics')\n",
      "('East', 1587, 'Washington Wizards')\n",
      "('East', 1569, 'Miami Heat')\n",
      "('East', 1545, 'Cleveland Cavaliers')\n",
      "('East', 1526, 'Indiana Pacers')\n",
      "('East', 1519, 'Chicago Bulls')\n",
      "('East', 1502, 'Milwaukee Bucks')\n",
      "('East', 1479, 'Atlanta Hawks')\n",
      "('East', 1463, 'Charlotte Hornets')\n",
      "('East', 1441, 'Detroit Pistons')\n",
      "('East', 1374, 'New York Knicks')\n",
      "('East', 1372, 'Brooklyn Nets')\n",
      "('East', 1352, 'Orlando Magic')\n",
      "('East', 1338, 'Philadelphia 76ers')\n"
     ]
    }
   ],
   "source": [
    "# Query All Records in the the Database\n",
    "data = engine.execute('SELECT * FROM ELO')\n",
    "\n",
    "for record in data:\n",
    "    print(record)"
   ]
  },
  {
   "cell_type": "code",
   "execution_count": 17,
   "metadata": {},
   "outputs": [],
   "source": [
    "conn.close()"
   ]
  },
  {
   "cell_type": "markdown",
   "metadata": {},
   "source": [
    "## Loading into MongoDB"
   ]
  },
  {
   "cell_type": "code",
   "execution_count": 18,
   "metadata": {},
   "outputs": [],
   "source": [
    "import pymongo"
   ]
  },
  {
   "cell_type": "code",
   "execution_count": 22,
   "metadata": {},
   "outputs": [],
   "source": [
    "# Initialize PyMongo to work with MongoDBs\n",
    "conn = 'mongodb://localhost:27017'\n",
    "client = pymongo.MongoClient(conn)\n",
    "\n",
    "# Define database\n",
    "db = client.NBA_Social_Power"
   ]
  },
  {
   "cell_type": "markdown",
   "metadata": {},
   "source": [
    "### ELO"
   ]
  },
  {
   "cell_type": "code",
   "execution_count": 23,
   "metadata": {},
   "outputs": [
    {
     "data": {
      "text/plain": [
       "<pymongo.results.InsertManyResult at 0x2943768e0c8>"
      ]
     },
     "execution_count": 23,
     "metadata": {},
     "output_type": "execute_result"
    }
   ],
   "source": [
    "# Define ELO collection\n",
    "collection = db['ELO']\n",
    "\n",
    "# Convert it to a dictionary\n",
    "ELO_dict = ELOcleaned_df.to_dict(\"records\")\n",
    "\n",
    "# Inserting the dictionary into collection\n",
    "collection.insert_many(ELO_dict)"
   ]
  },
  {
   "cell_type": "markdown",
   "metadata": {},
   "source": [
    "### Endorsements"
   ]
  },
  {
   "cell_type": "code",
   "execution_count": 24,
   "metadata": {},
   "outputs": [
    {
     "data": {
      "text/plain": [
       "<pymongo.results.InsertManyResult at 0x29436bb3b88>"
      ]
     },
     "execution_count": 24,
     "metadata": {},
     "output_type": "execute_result"
    }
   ],
   "source": [
    "# Define Endorsements collection\n",
    "collection = db['Endorsements']\n",
    "\n",
    "# Convert it to a dictionary\n",
    "Endorsements_dict = Cleaned_Endorsements.to_dict(\"records\")\n",
    "\n",
    "# Inserting the dictionary into collection\n",
    "collection.insert_many(Endorsements_dict)"
   ]
  },
  {
   "cell_type": "markdown",
   "metadata": {},
   "source": [
    "### Twitter"
   ]
  },
  {
   "cell_type": "code",
   "execution_count": 25,
   "metadata": {},
   "outputs": [
    {
     "data": {
      "text/plain": [
       "<pymongo.results.InsertManyResult at 0x294375eda88>"
      ]
     },
     "execution_count": 25,
     "metadata": {},
     "output_type": "execute_result"
    }
   ],
   "source": [
    "# Define Twitter collection\n",
    "collection = db['Twitter']\n",
    "\n",
    "# Convert it to a dictionary\n",
    "Twitter_dict = Cleaned_Twitter.to_dict(\"records\")\n",
    "\n",
    "# Inserting the dictionary into collection\n",
    "collection.insert_many(Twitter_dict)"
   ]
  },
  {
   "cell_type": "markdown",
   "metadata": {},
   "source": [
    "### Wikipedia"
   ]
  },
  {
   "cell_type": "code",
   "execution_count": 26,
   "metadata": {},
   "outputs": [
    {
     "data": {
      "text/plain": [
       "<pymongo.results.InsertManyResult at 0x29436be26c8>"
      ]
     },
     "execution_count": 26,
     "metadata": {},
     "output_type": "execute_result"
    }
   ],
   "source": [
    "# Define Wikipedia collection\n",
    "collection = db['Wikipedia']\n",
    "\n",
    "# Convert it to a dictionary\n",
    "Wiki_dict = Cleaned_Wiki.to_dict(\"records\")\n",
    "\n",
    "# Inserting the dictionary into collection\n",
    "collection.insert_many(Wiki_dict)"
   ]
  },
  {
   "cell_type": "code",
   "execution_count": null,
   "metadata": {},
   "outputs": [],
   "source": []
  }
 ],
 "metadata": {
  "kernelspec": {
   "display_name": "Python 3",
   "language": "python",
   "name": "python3"
  },
  "language_info": {
   "codemirror_mode": {
    "name": "ipython",
    "version": 3
   },
   "file_extension": ".py",
   "mimetype": "text/x-python",
   "name": "python",
   "nbconvert_exporter": "python",
   "pygments_lexer": "ipython3",
   "version": "3.7.6"
  }
 },
 "nbformat": 4,
 "nbformat_minor": 4
}
